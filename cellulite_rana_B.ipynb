{
 "cells": [
  {
   "cell_type": "markdown",
   "id": "7456b672",
   "metadata": {},
   "source": [
    "Ho separato le immagini perché se no ci mette 7 anni a compilare"
   ]
  },
  {
   "cell_type": "code",
   "execution_count": null,
   "id": "68c2b589",
   "metadata": {},
   "outputs": [],
   "source": [
    "import numpy as np\n",
    "import matplotlib.pyplot as plt\n",
    "import scipy.ndimage as ndi\n",
    "from PIL import Image\n",
    "# Load the JPEG image\n",
    "import os\n",
    "\n",
    "B = Image.open('sangue_rana/B.jpg')\n",
    "B = np.array(B)"
   ]
  }
 ],
 "metadata": {
  "language_info": {
   "name": "python"
  }
 },
 "nbformat": 4,
 "nbformat_minor": 5
}
